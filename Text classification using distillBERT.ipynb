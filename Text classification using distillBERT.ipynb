{
 "cells": [
  {
   "cell_type": "code",
   "execution_count": 1,
   "id": "88161ac5",
   "metadata": {},
   "outputs": [],
   "source": [
    "!pip install transformers[sentencepiece] -q "
   ]
  },
  {
   "cell_type": "markdown",
   "id": "bb9e4d57",
   "metadata": {},
   "source": [
    "DATASET DESCRIPTION: using the 20_newsgroups dataset. The dataset used for this task is the 20_newsgroup dataset (link: 20_newsgroup), which contains data, organized into 20 different newsgroups, each corresponding to a different topic."
   ]
  },
  {
   "cell_type": "code",
   "execution_count": 2,
   "id": "647d156e",
   "metadata": {},
   "outputs": [],
   "source": [
    "from sklearn.datasets import fetch_20newsgroups"
   ]
  },
  {
   "cell_type": "code",
   "execution_count": 3,
   "id": "c0d05dff",
   "metadata": {},
   "outputs": [],
   "source": [
    "#Getting the train and test sets #For my purpose I am considering 5 news categories for classification\n",
    "\n",
    "categories=['alt.atheism','comp.graphics','soc.religion.christian','rec.sport.hockey','sci.space']\n",
    "\n",
    "train=fetch_20newsgroups(subset='train', categories=categories, shuffle=True, random_state=50)\n",
    "test=fetch_20newsgroups(subset='test', categories=categories, shuffle=True, random_state=50)"
   ]
  },
  {
   "cell_type": "code",
   "execution_count": 5,
   "id": "e85299b5",
   "metadata": {},
   "outputs": [
    {
     "name": "stdout",
     "output_type": "stream",
     "text": [
      "Size of train data: 2856\n",
      "Size of test data: 1899\n"
     ]
    }
   ],
   "source": [
    "print('Size of train data:',len(train['data']))\n",
    "print('Size of test data:',len(test['data']))"
   ]
  },
  {
   "cell_type": "code",
   "execution_count": 6,
   "id": "fa8091de",
   "metadata": {},
   "outputs": [
    {
     "name": "stdout",
     "output_type": "stream",
     "text": [
      "Classes ['alt.atheism', 'comp.graphics', 'rec.sport.hockey', 'sci.space', 'soc.religion.christian']\n"
     ]
    }
   ],
   "source": [
    "print('Classes',train.target_names)"
   ]
  },
  {
   "cell_type": "code",
   "execution_count": 8,
   "id": "69cd0000",
   "metadata": {},
   "outputs": [],
   "source": [
    "#splitting into train test \n",
    "\n",
    "x_train=train.data\n",
    "y_train=train.target\n",
    "x_test=test.data\n",
    "y_test=test.target"
   ]
  },
  {
   "cell_type": "code",
   "execution_count": 9,
   "id": "38c78707",
   "metadata": {},
   "outputs": [
    {
     "name": "stdout",
     "output_type": "stream",
     "text": [
      "sci.space\n",
      "\n",
      " \n",
      "From: thomsonal@cpva.saic.com\n",
      "Subject: What counntries do space surveillance?\n",
      "Organization: Science Applications Int'l Corp./San Diego\n",
      "Lines: 111\n",
      "\n",
      "      Ethnocentric USian that I am, I've assumed that we and the\n",
      "xUSSR were the only countries with significant capabilities to track\n",
      "non-cooperative objects in low Earth orbit. Grazing in a couple of \n",
      "databases recently,  I found that Japan has some optical capabilities\n",
      "along this line, and also uses a radar designed for other purposes\n",
      "for orbital debris surveys (it isn't clear whether the radar can \n",
      "determine orbital elements for the objects it detects). Abstracts of \n",
      "the articles are appended. \n",
      "\n",
      "\n",
      "    This leads to the more general question: do yet other people than \n",
      "the US, Russia, and Japan do space surveillance, and if so, how and \n",
      "why? \n",
      "\n",
      "Allen Thomson              SAIC                        McLean, VA, USA\n",
      "-----------------------------------------------------------------------\n",
      "                         ABSTRACTS\n",
      "\n",
      "Optical tracking of the experimental geodetic satellite (EGS)\n",
      "TAKABE, MASAO; ITABE, TOSHIKAZU; ARUGA, TADASHI\n",
      "Radio Research Laboratory, Review (ISSN 0033-801X), vol. 34,\n",
      "March 1988, p. 23-34. In Japanese, with abstract in English.\n",
      "     This paper reports the optical tracking results of EGS\n",
      "(experimental geodetic satellite) which was launched on August 13,\n",
      "1986, by NASDA. The EGS optical tracking experiment process and an\n",
      "outline of the Radio Research Laboratory (RRL) optical ground       <----\n",
      "station are discussed. A star tracking technique for optical\n",
      "equipment calibration and satellite tracking technique for orbit\n",
      "prediction improvement are also described. The accuracy of EGS\n",
      "tracking data obtained by RRL at the request of NASDA is also\n",
      "discussed. In addition, it is briefly demonstrated that the\n",
      "position of the Japanese amateur satellite (JAS-1) which was\n",
      "launched with the EGS, was accurately determined by means of a      <----\n",
      "satellite tracking video. It is clear from this experiment that     <----\n",
      "optical observation data (i.e., satellite direction data) are very  <----\n",
      "useful for satellite orbit determination during initial launch      <----\n",
      "stages. Furthermore, the results confirm the effectivenes of these  <----\n",
      "two satellite optical tracking techniques.                          <----\n",
      "\n",
      "\n",
      "MU radar measurements of orbital debris\n",
      "SATO, TORU; KAYAMA, HIDETOSHI; FURUSAWA, AKIRA; KIMURA, IWANE\n",
      "(Kyoto University, Japan)\n",
      "AIAA, NASA, and DOD, Orbital Debris Conference: Technical Issues and \n",
      "Future Directions, Baltimore, MD, Apr. 16-19, 1990. 10 p. \n",
      "RPN: AIAA PAPER 90-1343\n",
      "     Distributions of orbital debris versus height and scattering cross \n",
      "section are determined from a series of observations made with a high-\n",
      "power VHF Doppler radar (MU radar) of Japan. An automated data \n",
      "processing algorithm has been developed to discriminate echoes of \n",
      "orbiting objects from those of undesired signals such as meteor trail \n",
      "echoes or lightning atmospherics. Although the results are preliminary, \n",
      "they showed good agreement with those from NORAD tracking radar      <----\n",
      "observations using a much higher frequency. It is found that the     <----\n",
      "collision frequency of a Space Station of 1 km x 1 km size at an \n",
      "altitude of 500 km with orbiting debris is expected to be as high as \n",
      "once per two years. \n",
      "\n",
      "\n",
      "Monitoring of the MU radar antenna pattern by Satellite Ohzora (EXOS-C)\n",
      "SATO, T.; INOOKA, Y.; FUKAO, S. (Kyoto Univ., Japan); KATO, S.\n",
      "Kyoto Univ., Uji (Japan). Radio Atmospheric Science Center.\n",
      "In International Council of Scientific Unions, Middle Atmosphere Program.\n",
      "Handbook for MAP, Vol. 20 5 p\n",
      "Publication Date: Jun. 1986\n",
      "      As the first attempt among MST (mesosphere stratosphere \n",
      "troposphere) type radars, the MU (middle and upper atmosphere) radar \n",
      "features an active phased array system. Unlike the conventional large \n",
      "VHF radars, in which output power of a large vacuum tube is distributed \n",
      "to individual antenna elements, each of 475 solid state power amplifier \n",
      "feeds each antenna element. This system configuration enables very fast \n",
      "beam steering as well as various flexible operations by dividing the \n",
      "antenna into independent subarrays, because phase shift and signal \n",
      "division/combination are performed at a low signal level using \n",
      "electronic devices under control of a computer network. The antenna \n",
      "beam can be switched within 10 microsec to any direction within the \n",
      "zenith angle of 30 deg. Since a precise phase alignment of each element \n",
      "is crucial to realize the excellent performance of this system, careful \n",
      "calibration of the output phase of each power amplifier and antenna \n",
      "element was carried out. Among various aircraft which may be used for \n",
      "this purpose artificial satellites have an advantage of being able to \n",
      "make a long term monitoring with the same system. An antenna pattern \n",
      "monitoring system for the MU radar was developed using the scientific \n",
      "satellite OHZORA (EXOS-C). A receiver named MUM (MU radar antenna \n",
      "Monitor) on board the satellite measures a CW signal of 100 to 400 \n",
      "watts transmitted from the MU radar. The principle of the measurement \n",
      "and results are discussed.\n",
      "\n",
      "\n",
      "Equatorial radar system\n",
      "FUKAO, SHOICHIRO;  TSUDA, TOSHITAKA; SATO, TORU; KATO, SUSUMU\n",
      "(Kyoto University, Uji, Japan)\n",
      "(COSPAR, IAGA, SCOSTEP, et al., Plenary Meeting, 27th,\n",
      "Workshops and Symposium on the Earth's Middle Atmosphere,\n",
      "Espoo, Finland, July 18-29, 1988) Advances in Space Research\n",
      "(ISSN 0273-1177), vol. 10, no. 10, 1990, p. 151-154.\n",
      "     A large clear air radar with the sensitivity of an incoherent \n",
      "scatter radar for observing the whole equatorial atmosphere up to 1000 \n",
      "km altitude is now being designed in Japan. The radar will be built in \n",
      "Pontianak, West Kalimantan, Indonesia (0.03 deg N, 109.29 deg E). The \n",
      "system is a 47-MHz monostatic Doppler radar with an active phased array \n",
      "configuration similar to that of the MU radar in Japan, which has been \n",
      "in successful operation since 1983. It will have a PA product of about \n",
      "3 x 10 to the 9th W sq m (P = average transmitter power, A = effective \n",
      "antenna aperture) with a sensitivity of approximately 10 times that of \n",
      "the MU radar. This system configuration enables pulse-to-pulse beam \n",
      "steering within 20 deg from the zenith. As is the case of the MU radar, \n",
      "a variety of operations will be made feasible under the supervision of \n",
      "the radar controller. A brief description of the system configuration \n",
      "is presented. \n",
      "\n",
      "\n"
     ]
    }
   ],
   "source": [
    "#Looking at the data\n",
    "\n",
    "print(train.target_names[y_train[0]])\n",
    "print(\"\\n \")\n",
    "print(x_train[0])"
   ]
  },
  {
   "cell_type": "markdown",
   "id": "8fed1579",
   "metadata": {},
   "source": [
    "ktrain - ktrain is a Python library that provides an easy-to-use interface for building, training, and deploying deep learning models. It is built on top of the popular deep learning library TensorFlow and is designed to simplify the process of building and training deep learning models.\n",
    "\n",
    "ktrain includes pre-processing tools for text and image data, as well as pre-built models for text classification, sequence labeling, image classification, and more. It also provides support for transfer learning, allowing you to fine-tune pre-trained models on your own data."
   ]
  },
  {
   "cell_type": "code",
   "execution_count": 11,
   "id": "62159833",
   "metadata": {},
   "outputs": [
    {
     "name": "stdout",
     "output_type": "stream",
     "text": [
      "Requirement already satisfied: ktrain in c:\\users\\lenovo\\anaconda3\\lib\\site-packages (0.33.2)\n",
      "Requirement already satisfied: sentencepiece in c:\\users\\lenovo\\anaconda3\\lib\\site-packages (from ktrain) (0.1.97)\n",
      "Requirement already satisfied: syntok>1.3.3 in c:\\users\\lenovo\\anaconda3\\lib\\site-packages (from ktrain) (1.4.4)\n",
      "Requirement already satisfied: transformers>=4.17.0 in c:\\users\\lenovo\\anaconda3\\lib\\site-packages (from ktrain) (4.26.1)\n",
      "Requirement already satisfied: fastprogress>=0.1.21 in c:\\users\\lenovo\\anaconda3\\lib\\site-packages (from ktrain) (1.0.3)\n",
      "Requirement already satisfied: cchardet in c:\\users\\lenovo\\anaconda3\\lib\\site-packages (from ktrain) (2.1.7)\n",
      "Requirement already satisfied: chardet in c:\\users\\lenovo\\anaconda3\\lib\\site-packages (from ktrain) (4.0.0)\n",
      "Requirement already satisfied: matplotlib>=3.0.0 in c:\\users\\lenovo\\anaconda3\\lib\\site-packages (from ktrain) (3.5.1)\n",
      "Requirement already satisfied: jieba in c:\\users\\lenovo\\anaconda3\\lib\\site-packages (from ktrain) (0.42.1)\n",
      "Requirement already satisfied: keras-bert>=0.86.0 in c:\\users\\lenovo\\anaconda3\\lib\\site-packages (from ktrain) (0.89.0)\n",
      "Requirement already satisfied: requests in c:\\users\\lenovo\\anaconda3\\lib\\site-packages (from ktrain) (2.27.1)\n",
      "Requirement already satisfied: scikit-learn in c:\\users\\lenovo\\anaconda3\\lib\\site-packages (from ktrain) (1.0.2)\n",
      "Requirement already satisfied: langdetect in c:\\users\\lenovo\\anaconda3\\lib\\site-packages (from ktrain) (1.0.9)\n",
      "Requirement already satisfied: joblib in c:\\users\\lenovo\\anaconda3\\lib\\site-packages (from ktrain) (1.1.0)\n",
      "Requirement already satisfied: packaging in c:\\users\\lenovo\\anaconda3\\lib\\site-packages (from ktrain) (21.3)\n",
      "Requirement already satisfied: pandas>=1.0.1 in c:\\users\\lenovo\\anaconda3\\lib\\site-packages (from ktrain) (1.4.2)\n",
      "Requirement already satisfied: whoosh in c:\\users\\lenovo\\anaconda3\\lib\\site-packages (from ktrain) (2.7.4)\n",
      "Requirement already satisfied: keras-transformer==0.40.0 in c:\\users\\lenovo\\anaconda3\\lib\\site-packages (from keras-bert>=0.86.0->ktrain) (0.40.0)\n",
      "Requirement already satisfied: numpy in c:\\users\\lenovo\\anaconda3\\lib\\site-packages (from keras-bert>=0.86.0->ktrain) (1.21.5)\n",
      "Requirement already satisfied: keras-multi-head==0.29.0 in c:\\users\\lenovo\\anaconda3\\lib\\site-packages (from keras-transformer==0.40.0->keras-bert>=0.86.0->ktrain) (0.29.0)\n",
      "Requirement already satisfied: keras-layer-normalization==0.16.0 in c:\\users\\lenovo\\anaconda3\\lib\\site-packages (from keras-transformer==0.40.0->keras-bert>=0.86.0->ktrain) (0.16.0)\n",
      "Requirement already satisfied: keras-embed-sim==0.10.0 in c:\\users\\lenovo\\anaconda3\\lib\\site-packages (from keras-transformer==0.40.0->keras-bert>=0.86.0->ktrain) (0.10.0)\n",
      "Requirement already satisfied: keras-pos-embd==0.13.0 in c:\\users\\lenovo\\anaconda3\\lib\\site-packages (from keras-transformer==0.40.0->keras-bert>=0.86.0->ktrain) (0.13.0)\n",
      "Requirement already satisfied: keras-position-wise-feed-forward==0.8.0 in c:\\users\\lenovo\\anaconda3\\lib\\site-packages (from keras-transformer==0.40.0->keras-bert>=0.86.0->ktrain) (0.8.0)\n",
      "Requirement already satisfied: keras-self-attention==0.51.0 in c:\\users\\lenovo\\anaconda3\\lib\\site-packages (from keras-multi-head==0.29.0->keras-transformer==0.40.0->keras-bert>=0.86.0->ktrain) (0.51.0)\n",
      "Requirement already satisfied: pyparsing>=2.2.1 in c:\\users\\lenovo\\anaconda3\\lib\\site-packages (from matplotlib>=3.0.0->ktrain) (3.0.4)\n",
      "Requirement already satisfied: pillow>=6.2.0 in c:\\users\\lenovo\\anaconda3\\lib\\site-packages (from matplotlib>=3.0.0->ktrain) (9.0.1)\n",
      "Requirement already satisfied: fonttools>=4.22.0 in c:\\users\\lenovo\\anaconda3\\lib\\site-packages (from matplotlib>=3.0.0->ktrain) (4.25.0)\n",
      "Requirement already satisfied: kiwisolver>=1.0.1 in c:\\users\\lenovo\\anaconda3\\lib\\site-packages (from matplotlib>=3.0.0->ktrain) (1.3.2)\n",
      "Requirement already satisfied: cycler>=0.10 in c:\\users\\lenovo\\anaconda3\\lib\\site-packages (from matplotlib>=3.0.0->ktrain) (0.11.0)\n",
      "Requirement already satisfied: python-dateutil>=2.7 in c:\\users\\lenovo\\anaconda3\\lib\\site-packages (from matplotlib>=3.0.0->ktrain) (2.8.2)\n",
      "Requirement already satisfied: pytz>=2020.1 in c:\\users\\lenovo\\anaconda3\\lib\\site-packages (from pandas>=1.0.1->ktrain) (2021.3)\n",
      "Requirement already satisfied: six>=1.5 in c:\\users\\lenovo\\anaconda3\\lib\\site-packages (from python-dateutil>=2.7->matplotlib>=3.0.0->ktrain) (1.16.0)\n",
      "Requirement already satisfied: regex>2016 in c:\\users\\lenovo\\anaconda3\\lib\\site-packages (from syntok>1.3.3->ktrain) (2022.3.15)\n",
      "Requirement already satisfied: pyyaml>=5.1 in c:\\users\\lenovo\\anaconda3\\lib\\site-packages (from transformers>=4.17.0->ktrain) (6.0)\n",
      "Requirement already satisfied: tqdm>=4.27 in c:\\users\\lenovo\\anaconda3\\lib\\site-packages (from transformers>=4.17.0->ktrain) (4.64.0)\n",
      "Requirement already satisfied: filelock in c:\\users\\lenovo\\anaconda3\\lib\\site-packages (from transformers>=4.17.0->ktrain) (3.6.0)\n",
      "Requirement already satisfied: tokenizers!=0.11.3,<0.14,>=0.11.1 in c:\\users\\lenovo\\anaconda3\\lib\\site-packages (from transformers>=4.17.0->ktrain) (0.13.2)\n",
      "Requirement already satisfied: huggingface-hub<1.0,>=0.11.0 in c:\\users\\lenovo\\anaconda3\\lib\\site-packages (from transformers>=4.17.0->ktrain) (0.12.1)\n",
      "Requirement already satisfied: typing-extensions>=3.7.4.3 in c:\\users\\lenovo\\anaconda3\\lib\\site-packages (from huggingface-hub<1.0,>=0.11.0->transformers>=4.17.0->ktrain) (4.1.1)\n",
      "Requirement already satisfied: colorama in c:\\users\\lenovo\\anaconda3\\lib\\site-packages (from tqdm>=4.27->transformers>=4.17.0->ktrain) (0.4.4)\n",
      "Requirement already satisfied: urllib3<1.27,>=1.21.1 in c:\\users\\lenovo\\anaconda3\\lib\\site-packages (from requests->ktrain) (1.26.9)\n",
      "Requirement already satisfied: charset-normalizer~=2.0.0 in c:\\users\\lenovo\\anaconda3\\lib\\site-packages (from requests->ktrain) (2.0.4)\n",
      "Requirement already satisfied: certifi>=2017.4.17 in c:\\users\\lenovo\\anaconda3\\lib\\site-packages (from requests->ktrain) (2021.10.8)\n",
      "Requirement already satisfied: idna<4,>=2.5 in c:\\users\\lenovo\\anaconda3\\lib\\site-packages (from requests->ktrain) (3.3)\n",
      "Requirement already satisfied: scipy>=1.1.0 in c:\\users\\lenovo\\anaconda3\\lib\\site-packages (from scikit-learn->ktrain) (1.7.3)\n",
      "Requirement already satisfied: threadpoolctl>=2.0.0 in c:\\users\\lenovo\\anaconda3\\lib\\site-packages (from scikit-learn->ktrain) (2.2.0)\n",
      "Note: you may need to restart the kernel to use updated packages.\n"
     ]
    }
   ],
   "source": [
    "pip install ktrain "
   ]
  },
  {
   "cell_type": "code",
   "execution_count": 12,
   "id": "63e1407a",
   "metadata": {},
   "outputs": [],
   "source": [
    "# Defining our model\n",
    "model_name='distilbert-base-uncased'"
   ]
  },
  {
   "cell_type": "code",
   "execution_count": 13,
   "id": "0882d135",
   "metadata": {},
   "outputs": [],
   "source": [
    "import ktrain\n",
    "from ktrain import text"
   ]
  },
  {
   "cell_type": "code",
   "execution_count": 14,
   "id": "0fa37d6a",
   "metadata": {},
   "outputs": [
    {
     "name": "stderr",
     "output_type": "stream",
     "text": [
      "C:\\Users\\lenovo\\anaconda3\\lib\\site-packages\\ktrain\\text\\preprocessor.py:382: UserWarning: The class_names argument is replacing the classes argument. Please update your code.\n",
      "  warnings.warn(\n"
     ]
    }
   ],
   "source": [
    "t=text.Transformer(model_name, maxlen=500, classes=train.target_names)"
   ]
  },
  {
   "cell_type": "code",
   "execution_count": 15,
   "id": "f397005e",
   "metadata": {},
   "outputs": [
    {
     "name": "stdout",
     "output_type": "stream",
     "text": [
      "preprocessing train...\n",
      "language: en\n",
      "train sequence lengths:\n",
      "\tmean : 309\n",
      "\t95percentile : 886\n",
      "\t99percentile : 1913\n"
     ]
    },
    {
     "data": {
      "text/html": [
       "\n",
       "<style>\n",
       "    /* Turns off some styling */\n",
       "    progress {\n",
       "        /* gets rid of default border in Firefox and Opera. */\n",
       "        border: none;\n",
       "        /* Needs to be in here for Safari polyfill so background images work as expected. */\n",
       "        background-size: auto;\n",
       "    }\n",
       "    progress:not([value]), progress:not([value])::-webkit-progress-bar {\n",
       "        background: repeating-linear-gradient(45deg, #7e7e7e, #7e7e7e 10px, #5c5c5c 10px, #5c5c5c 20px);\n",
       "    }\n",
       "    .progress-bar-interrupted, .progress-bar-interrupted::-webkit-progress-bar {\n",
       "        background: #F44336;\n",
       "    }\n",
       "</style>\n"
      ],
      "text/plain": [
       "<IPython.core.display.HTML object>"
      ]
     },
     "metadata": {},
     "output_type": "display_data"
    },
    {
     "data": {
      "text/html": [],
      "text/plain": [
       "<IPython.core.display.HTML object>"
      ]
     },
     "metadata": {},
     "output_type": "display_data"
    },
    {
     "name": "stdout",
     "output_type": "stream",
     "text": [
      "Is Multi-Label? False\n",
      "preprocessing test...\n",
      "language: en\n",
      "test sequence lengths:\n",
      "\tmean : 321\n",
      "\t95percentile : 861\n",
      "\t99percentile : 2155\n"
     ]
    },
    {
     "data": {
      "text/html": [
       "\n",
       "<style>\n",
       "    /* Turns off some styling */\n",
       "    progress {\n",
       "        /* gets rid of default border in Firefox and Opera. */\n",
       "        border: none;\n",
       "        /* Needs to be in here for Safari polyfill so background images work as expected. */\n",
       "        background-size: auto;\n",
       "    }\n",
       "    progress:not([value]), progress:not([value])::-webkit-progress-bar {\n",
       "        background: repeating-linear-gradient(45deg, #7e7e7e, #7e7e7e 10px, #5c5c5c 10px, #5c5c5c 20px);\n",
       "    }\n",
       "    .progress-bar-interrupted, .progress-bar-interrupted::-webkit-progress-bar {\n",
       "        background: #F44336;\n",
       "    }\n",
       "</style>\n"
      ],
      "text/plain": [
       "<IPython.core.display.HTML object>"
      ]
     },
     "metadata": {},
     "output_type": "display_data"
    },
    {
     "data": {
      "text/html": [],
      "text/plain": [
       "<IPython.core.display.HTML object>"
      ]
     },
     "metadata": {},
     "output_type": "display_data"
    }
   ],
   "source": [
    "#ktrain pre-processes the data according to the model\n",
    "\n",
    "pr_train=t.preprocess_train(x_train,y_train)\n",
    "pr_test=t.preprocess_test(x_test,y_test)"
   ]
  },
  {
   "cell_type": "code",
   "execution_count": 16,
   "id": "351d7574",
   "metadata": {},
   "outputs": [],
   "source": [
    "#we define a classifier with pretrained weights and randomly initialized final layers that can be fine-tuned. \n",
    "#The model will be wrapped in a ktrain Learner object that will allow us to easily train and inspect the model and \n",
    "#use it to make predictions on new data. This is a part of fine-tuning the model as per our requirements\n",
    "\n",
    "\n",
    "model=t.get_classifier()\n",
    "learner=ktrain.get_learner(model, train_data=pr_train, val_data=pr_test, batch_size=4)"
   ]
  },
  {
   "cell_type": "code",
   "execution_count": null,
   "id": "59b0e75b",
   "metadata": {},
   "outputs": [],
   "source": [
    "#For BERT-based models, learning rates between 2e-5 and 5e-5 generally work well across a wide range of datasets."
   ]
  },
  {
   "cell_type": "code",
   "execution_count": 17,
   "id": "22c4f08d",
   "metadata": {},
   "outputs": [
    {
     "name": "stdout",
     "output_type": "stream",
     "text": [
      "\n",
      "\n",
      "begin training using onecycle policy with max lr of 5e-05...\n",
      "Epoch 1/2\n",
      "714/714 [==============================] - 5877s 8s/step - loss: 0.4752 - accuracy: 0.8701 - val_loss: 0.4760 - val_accuracy: 0.8520\n",
      "Epoch 2/2\n",
      "714/714 [==============================] - 5348s 7s/step - loss: 0.0981 - accuracy: 0.9744 - val_loss: 0.1557 - val_accuracy: 0.9558\n"
     ]
    },
    {
     "data": {
      "text/plain": [
       "<keras.callbacks.History at 0x2ab4bab6160>"
      ]
     },
     "execution_count": 17,
     "metadata": {},
     "output_type": "execute_result"
    }
   ],
   "source": [
    "learner.fit_onecycle(5e-5,2)"
   ]
  },
  {
   "cell_type": "code",
   "execution_count": 24,
   "id": "1a971168",
   "metadata": {},
   "outputs": [],
   "source": [
    "#Accuracy is pretty impressive in just 2 epochs"
   ]
  },
  {
   "cell_type": "code",
   "execution_count": 18,
   "id": "6fff132f",
   "metadata": {},
   "outputs": [],
   "source": [
    "#Declaring ktrain predictor\n",
    "\n",
    "predictor = ktrain.get_predictor(learner.model, preproc=t)"
   ]
  },
  {
   "cell_type": "code",
   "execution_count": 19,
   "id": "ad850373",
   "metadata": {},
   "outputs": [
    {
     "name": "stdout",
     "output_type": "stream",
     "text": [
      "1/1 [==============================] - 4s 4s/step\n"
     ]
    },
    {
     "data": {
      "text/plain": [
       "'soc.religion.christian'"
      ]
     },
     "execution_count": 19,
     "metadata": {},
     "output_type": "execute_result"
    }
   ],
   "source": [
    "predictor.predict('Jesus Christ is the central figure of Christianity.')"
   ]
  },
  {
   "cell_type": "code",
   "execution_count": 20,
   "id": "4f08d957",
   "metadata": {},
   "outputs": [
    {
     "name": "stdout",
     "output_type": "stream",
     "text": [
      "1/1 [==============================] - 0s 99ms/step\n"
     ]
    },
    {
     "data": {
      "text/plain": [
       "'sci.space'"
      ]
     },
     "execution_count": 20,
     "metadata": {},
     "output_type": "execute_result"
    }
   ],
   "source": [
    "predictor.predict('Mars is one of earths neighbour out there in space')"
   ]
  },
  {
   "cell_type": "code",
   "execution_count": 21,
   "id": "80c2335d",
   "metadata": {},
   "outputs": [],
   "source": [
    "predictor.save('/tmp/my_distilbert_predictor')"
   ]
  },
  {
   "cell_type": "code",
   "execution_count": 22,
   "id": "8b90b2d6",
   "metadata": {},
   "outputs": [],
   "source": [
    "#reloading the model\n",
    "\n",
    "reloaded_predictor = ktrain.load_predictor('/tmp/my_distilbert_predictor')"
   ]
  },
  {
   "cell_type": "code",
   "execution_count": 23,
   "id": "f9a4c4dc",
   "metadata": {},
   "outputs": [
    {
     "name": "stdout",
     "output_type": "stream",
     "text": [
      "1/1 [==============================] - 3s 3s/step\n"
     ]
    },
    {
     "data": {
      "text/plain": [
       "'comp.graphics'"
      ]
     },
     "execution_count": 23,
     "metadata": {},
     "output_type": "execute_result"
    }
   ],
   "source": [
    "reloaded_predictor.predict('Blender is the future of 3D modelling')"
   ]
  }
 ],
 "metadata": {
  "kernelspec": {
   "display_name": "Python 3 (ipykernel)",
   "language": "python",
   "name": "python3"
  },
  "language_info": {
   "codemirror_mode": {
    "name": "ipython",
    "version": 3
   },
   "file_extension": ".py",
   "mimetype": "text/x-python",
   "name": "python",
   "nbconvert_exporter": "python",
   "pygments_lexer": "ipython3",
   "version": "3.9.12"
  }
 },
 "nbformat": 4,
 "nbformat_minor": 5
}
